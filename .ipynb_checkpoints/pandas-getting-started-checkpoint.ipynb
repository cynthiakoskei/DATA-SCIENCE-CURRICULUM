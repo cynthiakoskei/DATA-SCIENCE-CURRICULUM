{
 "cells": [
  {
   "cell_type": "markdown",
   "id": "e92e065e-61b0-426a-b761-ecdf7e6968ad",
   "metadata": {},
   "source": [
    "# Pandas\n",
    "\n",
    "**Pandas** is a Python library used for working with datasets. It does that by helping us make sense of **DataFrames**, which are a form of 2D **structured data**, like a table with columns and rows."
   ]
  },
  {
   "cell_type": "markdown",
   "id": "e5cf2c7a-563e-48fb-9897-7cce67487a66",
   "metadata": {},
   "source": [
    "# Importing Data\n",
    "\n",
    "## CSV Files\n",
    "\n",
    "CSV stands for Comma Separated Values, and it's a file type that allows data to be saved in a table. Data presented in a table is called **structured data**, because it adheres to the idea that there is a meaningful relationship between the columns and rows.\n"
   ]
  },
  {
   "cell_type": "markdown",
   "id": "8fe1e957-5ee7-42cb-b801-52a56ee57056",
   "metadata": {},
   "source": [
    "## Dictionaries"
   ]
  },
  {
   "cell_type": "markdown",
   "id": "189ddeeb-878a-4414-afb1-4600f91d8366",
   "metadata": {},
   "source": [
    "Creating a DataFrame from Python dictionary using `from_dict` function"
   ]
  },
  {
   "cell_type": "code",
   "execution_count": 4,
   "id": "dfa0f340-d083-4442-8736-e7008fbe9f04",
   "metadata": {},
   "outputs": [
    {
     "data": {
      "text/html": [
       "<div>\n",
       "<style scoped>\n",
       "    .dataframe tbody tr th:only-of-type {\n",
       "        vertical-align: middle;\n",
       "    }\n",
       "\n",
       "    .dataframe tbody tr th {\n",
       "        vertical-align: top;\n",
       "    }\n",
       "\n",
       "    .dataframe thead th {\n",
       "        text-align: right;\n",
       "    }\n",
       "</style>\n",
       "<table border=\"1\" class=\"dataframe\">\n",
       "  <thead>\n",
       "    <tr style=\"text-align: right;\">\n",
       "      <th></th>\n",
       "      <th>col_0</th>\n",
       "      <th>col_1</th>\n",
       "    </tr>\n",
       "  </thead>\n",
       "  <tbody>\n",
       "    <tr>\n",
       "      <th>0</th>\n",
       "      <td>4</td>\n",
       "      <td>e</td>\n",
       "    </tr>\n",
       "    <tr>\n",
       "      <th>1</th>\n",
       "      <td>5</td>\n",
       "      <td>f</td>\n",
       "    </tr>\n",
       "    <tr>\n",
       "      <th>2</th>\n",
       "      <td>6</td>\n",
       "      <td>g</td>\n",
       "    </tr>\n",
       "    <tr>\n",
       "      <th>3</th>\n",
       "      <td>7</td>\n",
       "      <td>h</td>\n",
       "    </tr>\n",
       "  </tbody>\n",
       "</table>\n",
       "</div>"
      ],
      "text/plain": [
       "   col_0 col_1\n",
       "0      4     e\n",
       "1      5     f\n",
       "2      6     g\n",
       "3      7     h"
      ]
     },
     "execution_count": 4,
     "metadata": {},
     "output_type": "execute_result"
    }
   ],
   "source": [
    "import pandas as pd\n",
    "\n",
    "data = {\"col_0\": [4,5,6,7], \"col_1\": [\"e\", \"f\", \"g\", \"h\"]}\n",
    "pd.DataFrame.from_dict(data)"
   ]
  },
  {
   "cell_type": "markdown",
   "id": "1ffebb14-7b21-4738-a8af-99122dc7f777",
   "metadata": {},
   "source": [
    "By default, DataFrame will be created using keys as columns. Note the length of the values should be equal for each key for the code to work. We can also let keys to be index instead of the columns:"
   ]
  },
  {
   "cell_type": "code",
   "execution_count": 5,
   "id": "7d28f6c9-05e9-4153-a716-4b66a60644d5",
   "metadata": {},
   "outputs": [
    {
     "data": {
      "text/html": [
       "<div>\n",
       "<style scoped>\n",
       "    .dataframe tbody tr th:only-of-type {\n",
       "        vertical-align: middle;\n",
       "    }\n",
       "\n",
       "    .dataframe tbody tr th {\n",
       "        vertical-align: top;\n",
       "    }\n",
       "\n",
       "    .dataframe thead th {\n",
       "        text-align: right;\n",
       "    }\n",
       "</style>\n",
       "<table border=\"1\" class=\"dataframe\">\n",
       "  <thead>\n",
       "    <tr style=\"text-align: right;\">\n",
       "      <th></th>\n",
       "      <th>0</th>\n",
       "      <th>1</th>\n",
       "      <th>2</th>\n",
       "      <th>3</th>\n",
       "    </tr>\n",
       "  </thead>\n",
       "  <tbody>\n",
       "    <tr>\n",
       "      <th>col_0</th>\n",
       "      <td>4</td>\n",
       "      <td>5</td>\n",
       "      <td>6</td>\n",
       "      <td>7</td>\n",
       "    </tr>\n",
       "    <tr>\n",
       "      <th>col_1</th>\n",
       "      <td>e</td>\n",
       "      <td>f</td>\n",
       "      <td>g</td>\n",
       "      <td>h</td>\n",
       "    </tr>\n",
       "  </tbody>\n",
       "</table>\n",
       "</div>"
      ],
      "text/plain": [
       "       0  1  2  3\n",
       "col_0  4  5  6  7\n",
       "col_1  e  f  g  h"
      ]
     },
     "execution_count": 5,
     "metadata": {},
     "output_type": "execute_result"
    }
   ],
   "source": [
    "pd.DataFrame.from_dict(data, orient=\"index\")"
   ]
  },
  {
   "cell_type": "markdown",
   "id": "6fd4e8d6-7537-4b25-90d3-e53ca41a3005",
   "metadata": {},
   "source": [
    "We can also specify column names:"
   ]
  },
  {
   "cell_type": "code",
   "execution_count": 6,
   "id": "b9ad5e09-2c87-4a38-8b36-296b3ef8315f",
   "metadata": {},
   "outputs": [
    {
     "data": {
      "text/html": [
       "<div>\n",
       "<style scoped>\n",
       "    .dataframe tbody tr th:only-of-type {\n",
       "        vertical-align: middle;\n",
       "    }\n",
       "\n",
       "    .dataframe tbody tr th {\n",
       "        vertical-align: top;\n",
       "    }\n",
       "\n",
       "    .dataframe thead th {\n",
       "        text-align: right;\n",
       "    }\n",
       "</style>\n",
       "<table border=\"1\" class=\"dataframe\">\n",
       "  <thead>\n",
       "    <tr style=\"text-align: right;\">\n",
       "      <th></th>\n",
       "      <th>E</th>\n",
       "      <th>F</th>\n",
       "      <th>G</th>\n",
       "      <th>H</th>\n",
       "    </tr>\n",
       "  </thead>\n",
       "  <tbody>\n",
       "    <tr>\n",
       "      <th>col_0</th>\n",
       "      <td>4</td>\n",
       "      <td>5</td>\n",
       "      <td>6</td>\n",
       "      <td>7</td>\n",
       "    </tr>\n",
       "    <tr>\n",
       "      <th>col_1</th>\n",
       "      <td>e</td>\n",
       "      <td>f</td>\n",
       "      <td>g</td>\n",
       "      <td>h</td>\n",
       "    </tr>\n",
       "  </tbody>\n",
       "</table>\n",
       "</div>"
      ],
      "text/plain": [
       "       E  F  G  H\n",
       "col_0  4  5  6  7\n",
       "col_1  e  f  g  h"
      ]
     },
     "execution_count": 6,
     "metadata": {},
     "output_type": "execute_result"
    }
   ],
   "source": [
    "pd.DataFrame.from_dict(data, orient=\"index\", columns=[\"E\", \"F\", \"G\", \"H\"])"
   ]
  },
  {
   "cell_type": "markdown",
   "id": "2b15989d-185a-4694-8f11-3bbf0c41677c",
   "metadata": {},
   "source": [
    "# Practice"
   ]
  },
  {
   "cell_type": "markdown",
   "id": "0a23774c-3ad0-4adc-a1ad-09714d59f2b2",
   "metadata": {},
   "source": [
    "Try it yourself! Create a DataFrame called using the dictionary `clothes` and make the keys as index, and put column names as ['color','size']"
   ]
  },
  {
   "cell_type": "code",
   "execution_count": 8,
   "id": "777dbed1-5fae-4126-b507-e3811f0557e4",
   "metadata": {},
   "outputs": [
    {
     "data": {
      "text/html": [
       "<div>\n",
       "<style scoped>\n",
       "    .dataframe tbody tr th:only-of-type {\n",
       "        vertical-align: middle;\n",
       "    }\n",
       "\n",
       "    .dataframe tbody tr th {\n",
       "        vertical-align: top;\n",
       "    }\n",
       "\n",
       "    .dataframe thead th {\n",
       "        text-align: right;\n",
       "    }\n",
       "</style>\n",
       "<table border=\"1\" class=\"dataframe\">\n",
       "  <thead>\n",
       "    <tr style=\"text-align: right;\">\n",
       "      <th></th>\n",
       "      <th>color</th>\n",
       "      <th>size</th>\n",
       "    </tr>\n",
       "  </thead>\n",
       "  <tbody>\n",
       "    <tr>\n",
       "      <th>shirt</th>\n",
       "      <td>red</td>\n",
       "      <td>M</td>\n",
       "    </tr>\n",
       "    <tr>\n",
       "      <th>sweater</th>\n",
       "      <td>yellow</td>\n",
       "      <td>L</td>\n",
       "    </tr>\n",
       "    <tr>\n",
       "      <th>jacket</th>\n",
       "      <td>black</td>\n",
       "      <td>L</td>\n",
       "    </tr>\n",
       "  </tbody>\n",
       "</table>\n",
       "</div>"
      ],
      "text/plain": [
       "          color size\n",
       "shirt       red    M\n",
       "sweater  yellow    L\n",
       "jacket    black    L"
      ]
     },
     "execution_count": 8,
     "metadata": {},
     "output_type": "execute_result"
    }
   ],
   "source": [
    "clothes = {\"shirt\": [\"red\", \"M\"], \"sweater\": [\"yellow\", \"L\"], \"jacket\": [\"black\", \"L\"]}\n",
    "\n",
    "pd.DataFrame.from_dict(clothes, orient=\"index\", columns=[\"color\", \"size\"])"
   ]
  },
  {
   "cell_type": "markdown",
   "id": "e597c2b7-3476-4684-b084-655c4394d5bf",
   "metadata": {},
   "source": [
    "# JSON Files"
   ]
  },
  {
   "cell_type": "markdown",
   "id": "f0e30088-0f72-4680-9249-00d320e1bb1f",
   "metadata": {},
   "source": [
    "JSON is short for JavaScript Object Notation. It is another widely used data format to store and transfer the data. It is light-weight and very human readable. In Python, we can use the `json` library to read JSON files. Here is an example of a JSON string."
   ]
  },
  {
   "cell_type": "code",
   "execution_count": 9,
   "id": "cafc65e4-d318-4024-817d-c9cc54ca8909",
   "metadata": {},
   "outputs": [
    {
     "name": "stdout",
     "output_type": "stream",
     "text": [
      "{\n",
      "    \"firstName\" : \"Cynthia\",\n",
      "    \"lastName\" : \"Koskei\",\n",
      "    \"hobby\" : \"swimming\",\n",
      "    \"age\" : 24\n",
      "}\n"
     ]
    }
   ],
   "source": [
    "info = \"\"\"{\n",
    "    \"firstName\" : \"Cynthia\",\n",
    "    \"lastName\" : \"Koskei\",\n",
    "    \"hobby\" : \"swimming\",\n",
    "    \"age\" : 24\n",
    "}\"\"\"\n",
    "print(info)"
   ]
  },
  {
   "cell_type": "code",
   "execution_count": 10,
   "id": "2ddf4f24-3c0a-4ac7-86d2-5abd48d5c747",
   "metadata": {},
   "outputs": [
    {
     "data": {
      "text/plain": [
       "{'firstName': 'Cynthia', 'lastName': 'Koskei', 'hobby': 'swimming', 'age': 24}"
      ]
     },
     "execution_count": 10,
     "metadata": {},
     "output_type": "execute_result"
    }
   ],
   "source": [
    "#loading the json string into Python dict\n",
    "import json\n",
    "\n",
    "data = json.loads(info)\n",
    "data"
   ]
  },
  {
   "cell_type": "code",
   "execution_count": 11,
   "id": "df972b3e-4da5-4380-9bb7-21ebef3b9a69",
   "metadata": {},
   "outputs": [
    {
     "data": {
      "text/plain": [
       "'Koskei'"
      ]
     },
     "execution_count": 11,
     "metadata": {},
     "output_type": "execute_result"
    }
   ],
   "source": [
    "data['lastName']"
   ]
  },
  {
   "cell_type": "markdown",
   "id": "501b6da5-44b2-4c81-828e-55f33b7054c5",
   "metadata": {},
   "source": [
    "A dictionary may not be as convenient as a `DataFrame` in terms of data manipulation and cleaning. But once we've turned our json string into a dictionary, we can transform it into a `DataFrame` using the `from_dict` method."
   ]
  },
  {
   "cell_type": "code",
   "execution_count": 12,
   "id": "75c023d8-3934-4cf5-9da9-97f560be39ed",
   "metadata": {},
   "outputs": [
    {
     "data": {
      "text/html": [
       "<div>\n",
       "<style scoped>\n",
       "    .dataframe tbody tr th:only-of-type {\n",
       "        vertical-align: middle;\n",
       "    }\n",
       "\n",
       "    .dataframe tbody tr th {\n",
       "        vertical-align: top;\n",
       "    }\n",
       "\n",
       "    .dataframe thead th {\n",
       "        text-align: right;\n",
       "    }\n",
       "</style>\n",
       "<table border=\"1\" class=\"dataframe\">\n",
       "  <thead>\n",
       "    <tr style=\"text-align: right;\">\n",
       "      <th></th>\n",
       "      <th>User 1</th>\n",
       "    </tr>\n",
       "  </thead>\n",
       "  <tbody>\n",
       "    <tr>\n",
       "      <th>firstName</th>\n",
       "      <td>Cynthia</td>\n",
       "    </tr>\n",
       "    <tr>\n",
       "      <th>lastName</th>\n",
       "      <td>Koskei</td>\n",
       "    </tr>\n",
       "    <tr>\n",
       "      <th>hobby</th>\n",
       "      <td>swimming</td>\n",
       "    </tr>\n",
       "    <tr>\n",
       "      <th>age</th>\n",
       "      <td>24</td>\n",
       "    </tr>\n",
       "  </tbody>\n",
       "</table>\n",
       "</div>"
      ],
      "text/plain": [
       "             User 1\n",
       "firstName   Cynthia\n",
       "lastName     Koskei\n",
       "hobby      swimming\n",
       "age              24"
      ]
     },
     "execution_count": 12,
     "metadata": {},
     "output_type": "execute_result"
    }
   ],
   "source": [
    "df = pd.DataFrame.from_dict(data, orient=\"index\", columns=[\"User 1\"])\n",
    "df"
   ]
  },
  {
   "cell_type": "markdown",
   "id": "a6672dc1-84f2-4fa0-a33a-5ab0f946d7fe",
   "metadata": {},
   "source": [
    "# Practice\n",
    "\n",
    "Try it yourself! Load the JSON file `clothes` and then transform it to `DataFrame`, name column properly."
   ]
  },
  {
   "cell_type": "code",
   "execution_count": 16,
   "id": "73e4e0c8-6176-4069-9975-b69aba4aad44",
   "metadata": {},
   "outputs": [
    {
     "data": {
      "text/html": [
       "<div>\n",
       "<style scoped>\n",
       "    .dataframe tbody tr th:only-of-type {\n",
       "        vertical-align: middle;\n",
       "    }\n",
       "\n",
       "    .dataframe tbody tr th {\n",
       "        vertical-align: top;\n",
       "    }\n",
       "\n",
       "    .dataframe thead th {\n",
       "        text-align: right;\n",
       "    }\n",
       "</style>\n",
       "<table border=\"1\" class=\"dataframe\">\n",
       "  <thead>\n",
       "    <tr style=\"text-align: right;\">\n",
       "      <th></th>\n",
       "      <th>color</th>\n",
       "      <th>size</th>\n",
       "    </tr>\n",
       "  </thead>\n",
       "  <tbody>\n",
       "    <tr>\n",
       "      <th>shirt</th>\n",
       "      <td>red</td>\n",
       "      <td>M</td>\n",
       "    </tr>\n",
       "    <tr>\n",
       "      <th>sweater</th>\n",
       "      <td>yellow</td>\n",
       "      <td>L</td>\n",
       "    </tr>\n",
       "  </tbody>\n",
       "</table>\n",
       "</div>"
      ],
      "text/plain": [
       "          color size\n",
       "shirt       red    M\n",
       "sweater  yellow    L"
      ]
     },
     "execution_count": 16,
     "metadata": {},
     "output_type": "execute_result"
    }
   ],
   "source": [
    "clothes = \"\"\"{\"shirt\": [\"red\",\"M\"], \"sweater\": [\"yellow\",\"L\"]}\"\"\"\n",
    "\n",
    "data = json.loads(clothes)\n",
    "df = pd.DataFrame.from_dict(data, orient=\"index\", columns=[\"color\", \"size\"])\n",
    "df"
   ]
  },
  {
   "cell_type": "markdown",
   "id": "7731f5ce-3378-4b45-9b0f-6b62d55434e5",
   "metadata": {},
   "source": [
    "# Load Compressed file in Python\n",
    "\n",
    "In the big data era, it is very likely that we'll need to read data from compressed files. One way to unzip the data is to use gzip. We can load the `file.json.gz` file from the data folder using the following code:"
   ]
  },
  {
   "cell_type": "code",
   "execution_count": null,
   "id": "e186b000-6556-4f96-a0ee-89539b39dbff",
   "metadata": {},
   "outputs": [],
   "source": [
    "import gzip\n",
    "import json\n",
    "\n",
    "with gzip.open(\"data/file.json.gz\", \"r\") as f:\n",
    "    file_data_gz = json.load(f)"
   ]
  },
  {
   "cell_type": "markdown",
   "id": "32943506-98ca-49e5-ab1a-26b8be9e67b9",
   "metadata": {},
   "source": [
    "`file_data_gz` is a dictionary, and we only need the `data` portion of it."
   ]
  },
  {
   "cell_type": "code",
   "execution_count": null,
   "id": "acfae204-d7c3-4db6-bf3f-d4a02a7f80d8",
   "metadata": {},
   "outputs": [],
   "source": [
    " file_data_gz.keys()"
   ]
  },
  {
   "cell_type": "markdown",
   "id": "1003294b-d3d5-46ff-9349-e28f74dbc442",
   "metadata": {},
   "source": [
    "We can use the `from_dict` function from pandas to read the data:"
   ]
  },
  {
   "cell_type": "code",
   "execution_count": null,
   "id": "40a4d918-6b56-4c20-a375-c2d26d1813e0",
   "metadata": {},
   "outputs": [],
   "source": [
    "df = pd.DataFrame().from_dict(file_data_gz[\"data\"])"
   ]
  },
  {
   "cell_type": "code",
   "execution_count": null,
   "id": "572031de-0553-4243-a4ae-a0756df992d0",
   "metadata": {},
   "outputs": [],
   "source": [
    "df.head()"
   ]
  },
  {
   "cell_type": "markdown",
   "id": "4f92d8d1-12b0-4526-aa64-8840cc168743",
   "metadata": {},
   "source": [
    "# Pickle Files\n",
    "\n",
    "Pickle in Python is primarily used in `serializing` and `deserializing` a Python object structure. `Serialization` is the process of turning an object in memory into a stream of bytes so you can store it on disk or send it over a network. `Deserialization` is the reverse process: turning a stream of bytes back into an object in memory.\n",
    "\n",
    "According to the pickle module documentation, the following types can be pickled:\n",
    "\n",
    "* `None`\n",
    "* Booleans\n",
    "* Integers, long integers, floating point numbers, complex numbers\n",
    "* Normal and Unicode strings\n",
    "* Tuples, lists, sets, and dictionaries containing only objects that can be pickled\n",
    "* Functions defined at the top level of a module\n",
    "* Built-in functions defined at the top level of a module\n",
    "* Classes that are defined at the top level of a module"
   ]
  },
  {
   "cell_type": "code",
   "execution_count": 1,
   "id": "fbc28ace-398e-430a-988a-fdc1727fb7dc",
   "metadata": {},
   "outputs": [
    {
     "data": {
      "text/plain": [
       "{'shirt': ['red', 'M'], 'sweater': ['yellow', 'L'], 'jacket': ['black', 'L']}"
      ]
     },
     "execution_count": 1,
     "metadata": {},
     "output_type": "execute_result"
    }
   ],
   "source": [
    "clothes = {\"shirt\": [\"red\", \"M\"], \n",
    "           \"sweater\": [\"yellow\", \"L\"],\n",
    "          \"jacket\": [\"black\", \"L\"]}\n",
    "clothes"
   ]
  },
  {
   "cell_type": "code",
   "execution_count": null,
   "id": "6e12eee4-46b9-45d4-b54b-cdb3e0222668",
   "metadata": {},
   "outputs": [],
   "source": [
    "import pickle \n",
    "\n",
    "pickle.dump(clothes,open(\"./data/clothes.pkl\", \"wb\"))"
   ]
  },
  {
   "cell_type": "code",
   "execution_count": null,
   "id": "c1a8358a-3c84-4940-b108-74abeb3c761f",
   "metadata": {},
   "outputs": [],
   "source": []
  }
 ],
 "metadata": {
  "kernelspec": {
   "display_name": "Python 3 (ipykernel)",
   "language": "python",
   "name": "python3"
  },
  "language_info": {
   "codemirror_mode": {
    "name": "ipython",
    "version": 3
   },
   "file_extension": ".py",
   "mimetype": "text/x-python",
   "name": "python",
   "nbconvert_exporter": "python",
   "pygments_lexer": "ipython3",
   "version": "3.11.3"
  }
 },
 "nbformat": 4,
 "nbformat_minor": 5
}
